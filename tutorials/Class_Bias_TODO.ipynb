{
 "cells": [
  {
   "cell_type": "code",
   "execution_count": null,
   "id": "initial_id",
   "metadata": {
    "collapsed": true
   },
   "outputs": [],
   "source": [
    "model_bias = ESN(y=ensemble.get_observables(),\n",
    "                 t=ensemble.get_current_time,\n",
    "                 dt=ensemble.dt,\n",
    "                 upsample=5,\n",
    "                 N_units=100,\n",
    "                 std_a=filter_params['std_a'],\n",
    "                 # Training data generation  options\n",
    "                 augment_data=True,\n",
    "                 L=10,\n",
    "                 # Training, val and wash times\n",
    "                 N_wash=5,\n",
    "                 # Hyperparameter search ranges\n",
    "                 rho_range=(0.5, 1.1),\n",
    "                 t_train=ensemble.t_transient,\n",
    "                 t_val=ensemble.t_CR,\n",
    "                 t_test=ensemble.t_CR,\n",
    "                 sigma_in_range=(np.log10(1e-5), np.log10(1e1)),\n",
    "                 tikh_range=[1e-16]\n",
    "                 )"
   ]
  },
  {
   "cell_type": "code",
   "outputs": [],
   "source": [
    "alpha0 = dict(nu=(40., 50.),\n",
    "              c2beta=(5, 20),\n",
    "              kappa=(1.E-4, 1.3E-4),\n",
    "              epsilon=(0.0001, 0.03),\n",
    "              omega=(1090 * 2 * np.pi, 1100 * 2 * np.pi),\n",
    "              theta_b=(0.5, 0.7),\n",
    "              theta_e=(0.5, 0.8)\n",
    "              )\n",
    "\n",
    "alpha0_mean = dict()\n",
    "for alpha, lims in alpha0.items():\n",
    "    alpha0_mean[alpha] = 0.5 * (lims[0] + lims[1])\n",
    "\n",
    "ensemble = Annular(**alpha0_mean)\n",
    "\n",
    "filter_params = {'m': 10, \n",
    "                 'inflation': 1.002,\n",
    "                 'std_psi': 0.3,\n",
    "                 'std_a': alpha0}\n",
    "\n",
    "# Forecast model to initialise the ensemble after transient\n",
    "state, t_ = ensemble.time_integrate(int(ensemble.t_CR / ensemble.dt))\n",
    "ensemble.update_history(state[-1], reset=True)\n",
    "\n",
    "ensemble.init_ensemble(**filter_params)\n"
   ],
   "metadata": {
    "collapsed": false
   },
   "id": "f9d5f0d0636881e5"
  }
 ],
 "metadata": {
  "kernelspec": {
   "display_name": "Python 3",
   "language": "python",
   "name": "python3"
  },
  "language_info": {
   "codemirror_mode": {
    "name": "ipython",
    "version": 2
   },
   "file_extension": ".py",
   "mimetype": "text/x-python",
   "name": "python",
   "nbconvert_exporter": "python",
   "pygments_lexer": "ipython2",
   "version": "2.7.6"
  }
 },
 "nbformat": 4,
 "nbformat_minor": 5
}
