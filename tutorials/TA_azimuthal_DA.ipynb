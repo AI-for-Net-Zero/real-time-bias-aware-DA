{
 "cells": [
  {
   "cell_type": "markdown",
   "source": [
    "# TUTORIAL: \n",
    "# Data assimilation using real experimental data\n",
    "\n",
    "We can now put everything we have learned together. "
   ],
   "metadata": {
    "collapsed": false
   },
   "id": "764b9fea212048bd"
  },
  {
   "cell_type": "code",
   "execution_count": 12,
   "outputs": [],
   "source": [
    "import numpy as np\n",
    "import os\n",
    "import matplotlib.pyplot as plt\n",
    "from essentials.physical_models import Annular\n",
    "from essentials.bias_models import ESN\n",
    "import scipy.io as sio\n",
    "\n",
    "rng = np.random.default_rng(0)\n",
    "\n",
    "\n",
    "if os.path.isdir('/mscott/'):\n",
    "    data_folder = '/mscott/an553/data/'  # set working directory to \n",
    "else:\n",
    "    data_folder = \"../data/\""
   ],
   "metadata": {
    "collapsed": false,
    "ExecuteTime": {
     "end_time": "2024-02-11T18:18:26.431519Z",
     "start_time": "2024-02-11T18:18:26.424023Z"
    }
   },
   "id": "3ed20651c653ef43"
  },
  {
   "cell_type": "markdown",
   "source": [
    "## 1. Load data \n",
    "Create the \"truth\" from the available data. We can investigate two scenarios:\n",
    "\n",
    "A) Assume that we have access to the post-processed data and assimilate it. This situation simplifies the problem as the experimental data is not biased (see tutorial TA_azimuthal_data to see how the raw data is biased).\n",
    "-   Truth: post-processed data \n",
    "-   Observations: post-processed data + noise (possibly coloured noise)\n",
    "\n",
    "B) Assume a realistic setting in which the post-processed data is not available on the fly to input to the data assimilation algorithm. Here, we need to address the issue of biased observations.\n",
    "-   Truth: post-processed data\n",
    "-   Observations: raw data\n",
    "\n",
    "In this tutorial we will work with option A. For option B go to... TODO"
   ],
   "metadata": {
    "collapsed": false
   },
   "id": "13e856dabc8c870"
  },
  {
   "cell_type": "code",
   "execution_count": 16,
   "outputs": [],
   "source": [
    "ER = 0.5625\n",
    "filename = data_folder + 'annular/ER_{}'.format(ER)\n",
    "\n",
    "# Load experimental data\n",
    "mat = sio.loadmat(filename + '.mat')\n",
    "y_true, t_true = [mat[key].squeeze() for key in ['y_filtered', 't']]\n",
    "Nt, Nq = y_true.shape\n",
    "dt_t = t_true[1] - t_true[0]\n",
    "\n",
    "# Add noise to the truth to \"create\" the observations\n",
    "std_obs = 0.05 \n",
    "noise = rng.multivariate_normal(np.zeros(Nq), np.eye(Nq) * std_obs ** 2, Nt)\n",
    "y_obs = y_true + noise\n",
    "\n",
    "# Select the observations time-window\n",
    "t_start, t_stop = 1., 1.1\n",
    "dt_obs = 10\n",
    "\n",
    "# Sample the observations\n",
    "obs_idx = np.arange(t_start // dt_t, t_stop // dt_t + 1, dt_obs, dtype=int)\n",
    "y_obs, t_obs = [xx[obs_idx] for xx in [y_obs, t_true]]\n"
   ],
   "metadata": {
    "collapsed": false,
    "ExecuteTime": {
     "end_time": "2024-02-11T18:20:18.711603Z",
     "start_time": "2024-02-11T18:20:15.977252Z"
    }
   },
   "id": "47e88dbbc92443e5"
  },
  {
   "cell_type": "markdown",
   "source": [
    "## 2. Define the forecast model\n",
    "This is the physical model which we will use to model the true data"
   ],
   "metadata": {
    "collapsed": false
   },
   "id": "7ffcdafa5e0a447e"
  },
  {
   "cell_type": "code",
   "execution_count": null,
   "outputs": [],
   "source": [
    "\n",
    "forecast_params = {'model': Annular}\n",
    "\n",
    "# TODO \n"
   ],
   "metadata": {
    "collapsed": false
   },
   "id": "846679d6cf1ed5e4"
  },
  {
   "cell_type": "markdown",
   "source": [
    "## 3. Define the bias model"
   ],
   "metadata": {
    "collapsed": false
   },
   "id": "f9da2b4365436dd6"
  },
  {
   "cell_type": "code",
   "execution_count": 17,
   "outputs": [],
   "source": [
    "bias_params = {'bias_type': ESN}\n",
    "\n",
    "# TODO"
   ],
   "metadata": {
    "collapsed": false,
    "ExecuteTime": {
     "end_time": "2024-02-11T18:21:21.775235Z",
     "start_time": "2024-02-11T18:21:21.770997Z"
    }
   },
   "id": "a761f6e52e1d1c08"
  },
  {
   "cell_type": "markdown",
   "source": [
    "## 4. Select the filter parameters"
   ],
   "metadata": {
    "collapsed": false
   },
   "id": "419d0c2357d84476"
  },
  {
   "cell_type": "code",
   "execution_count": null,
   "id": "initial_id",
   "metadata": {
    "collapsed": true
   },
   "outputs": [],
   "source": [
    "\n",
    "filter_params = {'m': 10, \n",
    "                 'inflation': 1.002,\n",
    "                 'est_a': dict(nu=(40., 50.),\n",
    "                               beta_c2=(5, 20),\n",
    "                               kappa=(1.E-4, 1.3E-4),\n",
    "                               epsilon=(0.0001, 0.03),\n",
    "                               omega=(1090 * 2 * np.pi, 1100 * 2 * np.pi),\n",
    "                               theta_b=(0.2, 0.7),\n",
    "                               theta_e=(0.15, 0.8)\n",
    "                               )}\n",
    "\n",
    "# TODO: modify physical_models. If est_a is dict....\n"
   ]
  },
  {
   "cell_type": "markdown",
   "source": [
    "## 4. Apply data assimilation"
   ],
   "metadata": {
    "collapsed": false
   },
   "id": "f0007caf0a985fcb"
  },
  {
   "cell_type": "code",
   "execution_count": null,
   "outputs": [],
   "source": [
    "\n"
   ],
   "metadata": {
    "collapsed": false
   },
   "id": "f70a1954a4a91657"
  }
 ],
 "metadata": {
  "kernelspec": {
   "display_name": "Python 3",
   "language": "python",
   "name": "python3"
  },
  "language_info": {
   "codemirror_mode": {
    "name": "ipython",
    "version": 2
   },
   "file_extension": ".py",
   "mimetype": "text/x-python",
   "name": "python",
   "nbconvert_exporter": "python",
   "pygments_lexer": "ipython2",
   "version": "2.7.6"
  }
 },
 "nbformat": 4,
 "nbformat_minor": 5
}
