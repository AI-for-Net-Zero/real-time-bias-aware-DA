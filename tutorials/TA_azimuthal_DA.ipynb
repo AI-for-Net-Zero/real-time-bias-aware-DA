{
 "cells": [
  {
   "cell_type": "markdown",
   "source": [
    "# TUTORIAL: \n",
    "# Data assimilation using real experimental data\n",
    "\n",
    "We can now put everything we have learned together. \n",
    "\n",
    "We can investigate two scenarios:\n",
    "\n",
    "A) Assume that we have access to the post-processed data and assimilate it. This situation simplifies the problem as the experimental data is not biased (see tutorial TA_azimuthal_data to see how the raw data is biased).\n",
    "-   Truth: post-processed data \n",
    "-   Observations: post-processed data + noise (possibly coloured noise)\n",
    "\n",
    "B) Assume a realistic setting in which the post-processed data is not available on the fly to input to the data assimilation algorithm. Here, we need to address the issue of biased observations.\n",
    "-   Truth: post-processed data\n",
    "-   Observations: raw data\n",
    "\n",
    "In this tutorial we will work with option A. For option B go to the tutorial ```TA_azimuthal_DA_raw.ipynb```."
   ],
   "metadata": {
    "collapsed": false
   },
   "id": "764b9fea212048bd"
  },
  {
   "cell_type": "code",
   "execution_count": 1,
   "outputs": [],
   "source": [
    "import numpy as np\n",
    "import os\n",
    "import matplotlib.pyplot as plt\n",
    "from essentials.physical_models import Annular\n",
    "from essentials.bias_models import ESN\n",
    "import scipy.io as sio\n",
    "\n",
    "rng = np.random.default_rng(0)\n",
    "\n",
    "\n",
    "if os.path.isdir('/mscott/'):\n",
    "    data_folder = '/mscott/an553/data/'  # set working directory to \n",
    "else:\n",
    "    data_folder = \"../data/\""
   ],
   "metadata": {
    "collapsed": false,
    "ExecuteTime": {
     "end_time": "2024-02-12T16:29:07.908064182Z",
     "start_time": "2024-02-12T16:29:06.700115335Z"
    }
   },
   "id": "3ed20651c653ef43"
  },
  {
   "cell_type": "markdown",
   "source": [
    "## 1. Load data \n",
    "Create the reference truth and the observations.\n",
    "\n",
    "*The code below can be compacted with the function ```create_truth```, which outputs a dictionary:*\n",
    "```\n",
    "  \n",
    "from essentials.create import create_truth\n",
    "truth = create_truth(filename, t_start, t_stop, dt_obs, post_processed=True)\n",
    "```"
   ],
   "metadata": {
    "collapsed": false
   },
   "id": "13e856dabc8c870"
  },
  {
   "cell_type": "code",
   "execution_count": 2,
   "outputs": [],
   "source": [
    "ER = 0.5625\n",
    "filename = data_folder + 'annular/ER_{}'.format(ER)\n",
    "\n",
    "# Load experimental data\n",
    "mat = sio.loadmat(filename + '.mat')\n",
    "y_true, t_true = [mat[key].squeeze() for key in ['y_filtered', 't']]\n",
    "Nt, Nq = y_true.shape\n",
    "dt_t = t_true[1] - t_true[0]\n",
    "\n",
    "# Add noise to the truth to \"create\" the observations\n",
    "std_obs = 0.01\n",
    "noise = rng.multivariate_normal(np.zeros(Nq), np.eye(Nq) * std_obs ** 2, Nt)\n",
    "y_raw = y_true + noise * np.mean(abs(y_true))\n",
    "\n",
    "# Select the observations time-window\n",
    "t_start = Annular.t_transient + 1.\n",
    "t_stop = t_start + 0.1\n",
    "dt_obs = 50\n",
    "\n",
    "# Sample the observations\n",
    "obs_idx = np.arange(t_start // dt_t, t_stop // dt_t + 1, dt_obs, dtype=int)\n",
    "y_obs, t_obs = [xx[obs_idx] for xx in [y_raw, t_true]]\n",
    "\n",
    "truth = dict(y_raw=y_raw, y_true=y_true, t=t_true, dt=dt_t,\n",
    "             t_obs=t_true[obs_idx], y_obs=y_raw[obs_idx], dt_obs=dt_obs * dt_t,\n",
    "             name=filename, noise_type='Gaussian, additive', std_obs=std_obs)\n"
   ],
   "metadata": {
    "collapsed": false,
    "ExecuteTime": {
     "end_time": "2024-02-12T16:29:11.261886331Z",
     "start_time": "2024-02-12T16:29:07.950390349Z"
    }
   },
   "id": "47e88dbbc92443e5"
  },
  {
   "cell_type": "markdown",
   "source": [
    "## 2. Define the forecast model\n",
    "This is the physical model which we will use to model the true data.\n",
    "Here, we select the filter parameters and create ensemble\n",
    "\n",
    "*The code below can be compacted as*\n",
    "```\n",
    "from essentials.create import create_ensemble\n",
    "ensemble = create_ensemble(model=Annular, **filter_params)\n",
    "```"
   ],
   "metadata": {
    "collapsed": false
   },
   "id": "7ffcdafa5e0a447e"
  },
  {
   "cell_type": "code",
   "execution_count": 3,
   "outputs": [],
   "source": [
    "alpha0 = dict(nu=(40., 50.),\n",
    "              c2beta=(5, 20),\n",
    "              kappa=(1.E-4, 1.3E-4),\n",
    "              epsilon=(0.0001, 0.03),\n",
    "              omega=(1090 * 2 * np.pi, 1100 * 2 * np.pi),\n",
    "              theta_b=(0.5, 0.7),\n",
    "              theta_e=(0.5, 0.8)\n",
    "              )\n",
    "\n",
    "alpha0_mean = dict()\n",
    "for alpha, lims in alpha0.items():\n",
    "    alpha0_mean[alpha] = 0.5 * (lims[0] + lims[1])\n",
    "\n",
    "ensemble = Annular(**alpha0_mean)\n",
    "\n",
    "filter_params = {'m': 10, \n",
    "                 'inflation': 1.002,\n",
    "                 'std_psi': 0.3,\n",
    "                 'std_a': alpha0}\n",
    "\n",
    "# Forecast model to initialise the ensemble after transient\n",
    "state, t_ = ensemble.time_integrate(int(ensemble.t_CR / ensemble.dt))\n",
    "ensemble.update_history(state[-1], reset=True)\n",
    "\n",
    "ensemble.init_ensemble(**filter_params)\n"
   ],
   "metadata": {
    "collapsed": false,
    "ExecuteTime": {
     "end_time": "2024-02-12T16:29:11.349320025Z",
     "start_time": "2024-02-12T16:29:11.266270132Z"
    }
   },
   "id": "846679d6cf1ed5e4"
  },
  {
   "cell_type": "markdown",
   "source": [
    "\n",
    "Visualize ensemble initialization"
   ],
   "metadata": {
    "collapsed": false
   },
   "id": "4a0b15f444bb3d50"
  },
  {
   "cell_type": "code",
   "outputs": [
    {
     "data": {
      "text/plain": "<Figure size 1200x150 with 4 Axes>",
      "image/png": "[encoded data removed]"
     },
     "metadata": {},
     "output_type": "display_data"
    },
    {
     "data": {
      "text/plain": "<Figure size 1200x150 with 7 Axes>",
      "image/png": "[encoded data removed]"
     },
     "metadata": {},
     "output_type": "display_data"
    }
   ],
   "source": [
    "fig, axs = plt.subplots(figsize=(12, 1.5), layout='tight', nrows=1, ncols=ensemble.Nphi, sharey=True)\n",
    "labels = ['$\\eta_{a}$', '$\\dot{\\eta}_{a}$', '$\\eta_{b}$', '$\\dot{\\eta}_{b}$']\n",
    "for ax, ph, lbl in zip(axs.ravel(), ensemble.get_current_state[:-ensemble.Na, ], labels):\n",
    "    ax.hist(ph, bins=5, color='tab:green')\n",
    "    ax.set(xlabel=lbl)\n",
    "fig, axs = plt.subplots(figsize=(12, 1.5), layout='tight', nrows=1, ncols=ensemble.Na, sharey=True)\n",
    "reference_alpha = dict()\n",
    "for param in ensemble.est_a:\n",
    "    reference_alpha[param] = 1.\n",
    "reference_alpha['kappa'],reference_alpha['omega']  = 1.E-4, 2 * np.pi\n",
    "for ax, a, param in zip(axs.ravel(), ensemble.get_current_state[-ensemble.Na:, ], ensemble.est_a):\n",
    "    xlims = np.array(ensemble.std_a[param])/reference_alpha[param]\n",
    "    ax.hist(a / reference_alpha[param], bins=np.linspace(*xlims, 6))\n",
    "    ax.set(xlabel=ensemble.params_labels[param])"
   ],
   "metadata": {
    "collapsed": false,
    "ExecuteTime": {
     "end_time": "2024-02-12T16:29:13.575510344Z",
     "start_time": "2024-02-12T16:29:11.325322105Z"
    }
   },
   "id": "7171305374a4a374",
   "execution_count": 4
  },
  {
   "cell_type": "markdown",
   "source": [
    "## 4. Train an ESN to model the model bias\n",
    "The procedure is the following\n",
    "1) Initialise ESN Bias class object\n",
    "2) Create synthetic bias to use as training data \n",
    "3) Train the ESN\n",
    "4) Create washout data\n",
    "\n",
    "The details of the code inside ```create_bias_training_dataset()``` function is explained in the tutorial ```Class_Bias.ipynb```.\n"
   ],
   "metadata": {
    "collapsed": false
   },
   "id": "d9155103d82f09d8"
  },
  {
   "cell_type": "code",
   "outputs": [],
   "source": [
    "\n",
    "\n",
    "train_params = dict(upsample=5,\n",
    "                 N_units=100,\n",
    "                 N_wash=5,\n",
    "                 # Training data generation options\n",
    "                 augment_data=True,\n",
    "                 L=10,\n",
    "                 # Hyperparameter search ranges\n",
    "                 rho_range=(0.5, 1.1),\n",
    "                 sigma_in_range=(np.log10(1e-5), np.log10(1e1)),\n",
    "                 tikh_range=[1e-16]\n",
    "                 )\n",
    "\n",
    "train_data = create_bias_training_dataset(y_raw, y_true, ensemble, **train_params)\n",
    "\n"
   ],
   "metadata": {
    "collapsed": false,
    "ExecuteTime": {
     "end_time": "2024-02-12T16:41:09.539147205Z",
     "start_time": "2024-02-12T16:41:04.208375522Z"
    }
   },
   "id": "5c9a4acf4f81d58d",
   "execution_count": 18
  },
  {
   "cell_type": "code",
   "outputs": [
    {
     "ename": "AttributeError",
     "evalue": "'NoBias' object has no attribute 'train_bias_model'",
     "output_type": "error",
     "traceback": [
      "\u001B[0;31m---------------------------------------------------------------------------\u001B[0m",
      "\u001B[0;31mAttributeError\u001B[0m                            Traceback (most recent call last)",
      "Cell \u001B[0;32mIn[19], line 4\u001B[0m\n\u001B[1;32m      1\u001B[0m \u001B[38;5;66;03m# TODO: ONCE TRAIN DATA CREATED, TRAIN ESN\u001B[39;00m\n\u001B[1;32m      3\u001B[0m ensemble\u001B[38;5;241m.\u001B[39minit_bias(\u001B[38;5;241m*\u001B[39m\u001B[38;5;241m*\u001B[39mtrain_params)\n\u001B[0;32m----> 4\u001B[0m \u001B[43mensemble\u001B[49m\u001B[38;5;241;43m.\u001B[39;49m\u001B[43mbias\u001B[49m\u001B[38;5;241;43m.\u001B[39;49m\u001B[43mtrain_bias_model\u001B[49m(train_data\u001B[38;5;241m=\u001B[39mtrain_data,\n\u001B[1;32m      5\u001B[0m                                plot_training\u001B[38;5;241m=\u001B[39m\u001B[38;5;28;01mTrue\u001B[39;00m)\n",
      "\u001B[0;31mAttributeError\u001B[0m: 'NoBias' object has no attribute 'train_bias_model'"
     ]
    }
   ],
   "source": [
    "\n",
    "# TODO: ONCE TRAIN DATA CREATED, TRAIN ESN\n",
    "\n",
    "ensemble.init_bias(**train_params)\n",
    "ensemble.bias.train_bias_model(train_data=train_data,\n",
    "                               plot_training=True)"
   ],
   "metadata": {
    "collapsed": false,
    "ExecuteTime": {
     "end_time": "2024-02-12T16:50:58.792706445Z",
     "start_time": "2024-02-12T16:50:58.661742260Z"
    }
   },
   "id": "ddb04bc57eacba42",
   "execution_count": 19
  },
  {
   "cell_type": "code",
   "outputs": [],
   "source": [
    "\n",
    "\n",
    "\n",
    "\n",
    "#  Define the minimum length of the training set\n",
    "len_train_data = train_params['t_train'] + train_params['t_val']\n",
    "if train_params['perform_test']:\n",
    "    len_train_data += train_params['t_test'] * 5\n",
    "\n",
    "train_params['len_train_data'] = (int(round(len_train_data / ensemble.dt / train_params['upsample']))\n",
    "                                  + train_params['N_wash'])\n",
    "\n",
    "\n",
    "# Run bias model training\n",
    "\n",
    "print(train_data['data'].shape)\n",
    "\n",
    "train_params['y0'] = np.zeros((train_data['data'].shape[-1], 1))\n",
    "\n",
    "ensemble.init_bias(**train_params)\n",
    "ensemble.bias.filename = bias_name\n",
    "ensemble.bias.train_bias_model(train_data=train_data,\n",
    "                               folder=bias_model_folder,\n",
    "                               plot_training=True)\n",
    "\n",
    "ensemble.bias.print_bias_parameters()\n",
    "\n",
    "\n",
    "if not hasattr(ensemble.bias, 't_init'):\n",
    "    ensemble.bias.t_init = truth['t_obs'][0] - 2 * truth['dt_obs']\n",
    "\n",
    "# Ensure the truth has washout if needed\n",
    "if hasattr(ensemble.bias, 'N_wash') and 'wash_t' not in truth.keys():\n",
    "\n",
    "    i1 = np.argmin(abs(ensemble.bias.t_init - truth['t']))\n",
    "    i0 = i1 - ensemble.bias.N_wash * ensemble.bias.upsample\n",
    "\n",
    "    if i0 < 0:\n",
    "        raise ValueError('increase bias.t_init > t_wash + dt_obs')\n",
    "\n",
    "# Add washout to the truth\n",
    "truth['wash_obs'] = truth['y_raw'][i0:i1 + 1:ensemble.bias.upsample]\n",
    "truth['wash_t'] = truth['t'][i0:i1 + 1:ensemble.bias.upsample]"
   ],
   "metadata": {
    "collapsed": false,
    "ExecuteTime": {
     "end_time": "2024-02-12T16:29:15.219118249Z",
     "start_time": "2024-02-12T16:29:15.214852980Z"
    }
   },
   "id": "a8f488205c6c089"
  },
  {
   "cell_type": "markdown",
   "source": [
    "## 5. Apply data assimilation"
   ],
   "metadata": {
    "collapsed": false
   },
   "id": "f0007caf0a985fcb"
  },
  {
   "cell_type": "code",
   "outputs": [],
   "source": [],
   "metadata": {
    "collapsed": false,
    "ExecuteTime": {
     "start_time": "2024-02-12T16:29:15.219918102Z"
    }
   },
   "id": "94285c5eb7ed4754",
   "execution_count": null
  },
  {
   "cell_type": "code",
   "outputs": [],
   "source": [],
   "metadata": {
    "collapsed": false,
    "ExecuteTime": {
     "end_time": "2024-02-12T16:29:15.249081008Z",
     "start_time": "2024-02-12T16:29:15.224932319Z"
    }
   },
   "id": "32d422bab789475b",
   "execution_count": null
  },
  {
   "cell_type": "code",
   "outputs": [],
   "source": [],
   "metadata": {
    "collapsed": false,
    "ExecuteTime": {
     "start_time": "2024-02-12T16:29:15.228214709Z"
    }
   },
   "id": "7dd4c431c1648680"
  }
 ],
 "metadata": {
  "kernelspec": {
   "display_name": "Python 3",
   "language": "python",
   "name": "python3"
  },
  "language_info": {
   "codemirror_mode": {
    "name": "ipython",
    "version": 2
   },
   "file_extension": ".py",
   "mimetype": "text/x-python",
   "name": "python",
   "nbconvert_exporter": "python",
   "pygments_lexer": "ipython2",
   "version": "2.7.6"
  }
 },
 "nbformat": 4,
 "nbformat_minor": 5
}
