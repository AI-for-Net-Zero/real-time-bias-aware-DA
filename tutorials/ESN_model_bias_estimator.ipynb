{
 "cells": [
  {
   "cell_type": "markdown",
   "source": [
    "# TUTORIAL 02: \n",
    "# Using an ESN to predict the model error\n",
    "\n"
   ],
   "metadata": {
    "collapsed": false
   },
   "id": "1de46ef808605f55"
  },
  {
   "cell_type": "code",
   "outputs": [],
   "source": [
    "from default_parameters.annular import *\n"
   ],
   "metadata": {
    "collapsed": false,
    "ExecuteTime": {
     "end_time": "2024-02-08T16:53:01.091725133Z",
     "start_time": "2024-02-08T16:53:00.995298207Z"
    }
   },
   "id": "fa64097ebff689a7",
   "execution_count": 9
  },
  {
   "cell_type": "markdown",
   "source": [
    "#### 1. LOAD DATA FOR TRAINING THE ESN \n",
    "\n",
    "\n",
    "NB. This can be obtained using the compact function\n",
    "``` \n",
    "truth = create_truth(true_params, filter_params, post_processed=False)\n",
    "```"
   ],
   "metadata": {
    "collapsed": false
   },
   "id": "d95fe8172620d23d"
  },
  {
   "cell_type": "code",
   "outputs": [],
   "source": [
    "\n",
    "\n",
    "# Load experimental data\n",
    "mat = sio.loadmat(name + '.mat')\n",
    "y_raw, y_true, t_obs = [mat[key] for key in ['y_raw', 'y_filtered', 't']]\n",
    "\n",
    "\n",
    "case_name = true_params['model'].split('/')[-1]\n",
    "name_bias = 'Exp_' + case_name\n",
    "noise_type = 'Exp_' + case_name\n",
    "\n",
    "\n",
    "# =========================== COMPUTE OBSERVATIONS AT DESIRED TIME =========================== #\n",
    "dt_t = t_true[1] - t_true[0]\n",
    "obs_idx = np.arange(filter_params['t_start'] // dt_t,\n",
    "                    filter_params['t_stop'] // dt_t + 1, filter_params['dt_obs'], dtype=int)\n",
    "\n",
    "# ================================ SAVE DATA TO DICT ==================================== #\n",
    "if '/' in name_truth:\n",
    "    name_truth = '_'.join(name_truth.split('/'))\n",
    "\n",
    "truth = dict(y_raw=y_raw, y_true=y_true, t=t_true, b=b_true, dt=dt_t,\n",
    "             t_obs=t_true[obs_idx], y_obs=y_raw[obs_idx], dt_obs=filter_params['dt_obs'] * dt_t,\n",
    "             true_params=true_params, name=name_truth, name_bias=name_bias, noise_type=noise_type,\n",
    "             model=true_params['model'], std_obs=true_params['std_obs'])"
   ],
   "metadata": {
    "collapsed": false
   },
   "id": "72fa4862bd304cec"
  },
  {
   "cell_type": "markdown",
   "source": [
    "#### 2. CREATE AN ENSEMBLE OF FORECAST MODELS THAT AIM TO MODEL THE DATA\n",
    "\n",
    "\n",
    "NB. The code below is included in the function\n",
    "```\n",
    "ensemble = create_ensemble(forecast_params, filter_params)\n",
    "```"
   ],
   "metadata": {
    "collapsed": false
   },
   "id": "2f45ad6509b0beca"
  },
  {
   "cell_type": "code",
   "outputs": [],
   "source": [
    "\n"
   ],
   "metadata": {
    "collapsed": false,
    "ExecuteTime": {
     "end_time": "2024-02-08T16:38:17.324606826Z",
     "start_time": "2024-02-08T16:38:07.428345952Z"
    }
   },
   "id": "eef02c8744412cb3",
   "execution_count": 6
  },
  {
   "cell_type": "markdown",
   "source": [
    "#### 3. CREATE AN ESN TO MODEL THE BIAS\n",
    "\n",
    "\n",
    "NB. The code below is included in the function\n",
    "```\n",
    "create_bias_model(filter_ens, truth, bias_params, ESN_name, bias_model_folder=folder)\n",
    "```"
   ],
   "metadata": {
    "collapsed": false
   },
   "id": "7e662865694ebaf4"
  },
  {
   "cell_type": "code",
   "outputs": [],
   "source": [],
   "metadata": {
    "collapsed": false
   },
   "id": "c4d711e182dce45c"
  },
  {
   "cell_type": "code",
   "outputs": [],
   "source": [],
   "metadata": {
    "collapsed": false
   },
   "id": "76c99b2ddc9c9a82"
  }
 ],
 "metadata": {
  "kernelspec": {
   "display_name": "Python 3",
   "language": "python",
   "name": "python3"
  },
  "language_info": {
   "codemirror_mode": {
    "name": "ipython",
    "version": 2
   },
   "file_extension": ".py",
   "mimetype": "text/x-python",
   "name": "python",
   "nbconvert_exporter": "python",
   "pygments_lexer": "ipython2",
   "version": "2.7.6"
  }
 },
 "nbformat": 4,
 "nbformat_minor": 5
}
