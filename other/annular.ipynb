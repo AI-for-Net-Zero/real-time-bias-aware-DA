{
 "cells": [
  {
   "cell_type": "code",
   "execution_count": null,
   "id": "initial_id",
   "metadata": {},
   "outputs": [],
   "source": [
    "from physical_models import Annular\n",
    "from bias_models import *\n",
    "from run import main\n",
    "from create import *\n",
    "from plot_functions.plotResults import *\n",
    "\n",
    "\n",
    "if os.path.isdir('/mscott/'):   \n",
    "    os.chdir('/mscott/an553/')  # set working directory to mscott\n",
    "\n",
    "folder = 'results/Annular/'\n",
    "figs_dir = folder + 'figs/'\n",
    "\n",
    "os.makedirs(figs_dir, exist_ok=True)"
   ]
  },
  {
   "cell_type": "markdown",
   "source": [
    "%% ==================================== SELECT TRUE MODEL ======================================= #"
   ],
   "metadata": {
    "collapsed": false
   },
   "id": "ad7e3bfeede64043"
  },
  {
   "cell_type": "code",
   "execution_count": null,
   "outputs": [],
   "source": [
    "ERs = 0.4875 + np.arange(0, 8) * 0.0125  # equivalence ratios 0.4875-0.575 (by steps of 0.0125)\n",
    "ER = ERs[-2]\n",
    "\n",
    "true_params = {'model': 'annular/ER_{}'.format(ER),\n",
    "               'std_obs': 0.01\n",
    "               }\n"
   ],
   "metadata": {
    "collapsed": false
   },
   "id": "d15b6c25f800b8b1"
  },
  {
   "cell_type": "markdown",
   "source": [
    "%% ==================================== SELECT FILTER PARAMETERS =================================== #"
   ],
   "metadata": {
    "collapsed": false
   },
   "id": "453f9e085eb71a10"
  },
  {
   "cell_type": "code",
   "execution_count": null,
   "id": "46b037b01cacb55c",
   "metadata": {},
   "outputs": [],
   "source": [
    "parameters_IC = dict(\n",
    "        nu=(40., 50.), \n",
    "        beta_c2=(40., 50.),\n",
    "        kappa=(1.E-4, 1.3E-4),\n",
    "        epsilon=(1E-3, 5E-3),\n",
    "        omega=(1090 * 2 * np.pi, 1095 * 2 * np.pi),\n",
    "        theta_b=(0.5, 0.7),\n",
    "        theta_e=(0.4, 0.8),\n",
    ")\n",
    "\n",
    "filter_params = {'filter': 'rBA_EnKF',  # 'rBA_EnKF' 'EnKF' 'EnSRKF'\n",
    "                 'constrained_filter': False,\n",
    "                 'regularization_factor': 0.,\n",
    "                 'm': 10,\n",
    "                 # Parameter estimation options\n",
    "                 'est_a': [*parameters_IC],\n",
    "                 'std_a': parameters_IC,\n",
    "                 'alpha_distr': 'uniform',\n",
    "                 'std_psi': .5,\n",
    "                 # Define the observation time window\n",
    "                 't_start': 20.0,\n",
    "                 't_stop': 20.05,\n",
    "                 'dt_obs': 60,\n",
    "                 # Inflation\n",
    "                 'inflation': 1.00,\n",
    "                 'reject_inflation': 1.00\n",
    "                 }\n",
    "\n",
    "truth = create_truth(true_params, filter_params, post_processed=False)\n",
    "# plot_truth(truth.copy(), plot_time=True, Nq=4)\n",
    "\n",
    "\n",
    "# for ER in ERs[0:1]:\n",
    "#     true_params['model'] = 'annular/ER_{}'.format(ER)\n",
    "#     truth = create_truth(true_params, filter_params, post_processed=False)\n",
    "#     \n",
    "#     # Plot true data\n",
    "#     plot_truth(truth.copy(), plot_time=True, Nq=4, filename=figs_dir + 'truth_ER_{}.pdf'.format(ER))"
   ]
  },
  {
   "cell_type": "markdown",
   "id": "cf7e912bea47dd80",
   "metadata": {},
   "source": [
    " %% ================================= SELECT FORECAST MODEL ===================================== #"
   ]
  },
  {
   "cell_type": "code",
   "execution_count": null,
   "id": "77b00dfa3318a35d",
   "metadata": {},
   "outputs": [],
   "source": [
    "# These are the values from NN's code\n",
    "\n",
    "k = 1.2e-4\n",
    "nu_1 = 633.77\n",
    "nu_2 = -331.39\n",
    "c2b_1 = 258.3  \n",
    "c2b_2 = -108.27\n",
    "\n",
    "omega = 1090 * 2 * np.pi\n",
    "\n",
    "# initial values\n",
    "C0 = 10\n",
    "X0 = 0\n",
    "th0 = 0.63\n",
    "ph0 = 0\n",
    "\n",
    "# Conversion of the initial conditions from the quaternion formalism to the AB formalism\n",
    "Ai = C0 * np.sqrt(np.cos(th0)**2 * np.cos(X0)**2 + np.sin(th0)**2 * np.sin(X0)**2)\n",
    "Bi = C0 * np.sqrt(np.sin(th0)**2 * np.cos(X0)**2 + np.cos(th0)**2 * np.sin(X0)**2)\n",
    "phai = ph0 + np.arctan2(np.sin(th0) * np.sin(X0), np.cos(th0) * np.cos(X0))\n",
    "phbi = ph0 - np.arctan2(np.cos(th0) * np.sin(X0), np.sin(th0) * np.cos(X0))\n",
    "\n",
    "# initial conditions for the fast oscillator equations psi = [eta_a; deta_a; eta_b; deta_b]\n",
    "psi0 = [Ai * np.cos(phai), \n",
    "        -omega * Ai * np.sin(phai), \n",
    "        Bi * np.cos(phbi), \n",
    "        -omega * Bi * np.sin(phbi)]\n",
    "\n",
    "forecast_params = {'model': Annular,\n",
    "                   'dt': truth['dt'],\n",
    "                   'nu': nu_1*ER + nu_2,\n",
    "                   'beta_c2': c2b_1*ER + c2b_2,\n",
    "                   'omega': omega,\n",
    "                   'psi0': psi0\n",
    "                   }\n",
    "\n"
   ]
  },
  {
   "cell_type": "markdown",
   "id": "f31da2c19cbbb8ac",
   "metadata": {},
   "source": [
    " %% ================================= SELECT BIAS MODEL ===================================== #"
   ]
  },
  {
   "cell_type": "code",
   "execution_count": null,
   "id": "d124657d2db31f97",
   "metadata": {},
   "outputs": [],
   "source": [
    "bias_params = {'biasType': NoBias,  # Bias.ESN / Bias.NoBias\n",
    "               'std_a': filter_params['std_a'],\n",
    "               'est_a': filter_params['est_a'],\n",
    "               'augment_data': True,\n",
    "               'upsample': 5,\n",
    "               'L': 10,\n",
    "               'N_wash': 20,\n",
    "               'noise': 0.01,\n",
    "               'rho_range': (0.5, 1.1),\n",
    "               'sigma_in_range': (np.log10(1e-5), np.log10(1e0)),\n",
    "               'tikh_range': [1e-16],\n",
    "               }"
   ]
  },
  {
   "cell_type": "markdown",
   "id": "8d415c544e56c850",
   "metadata": {},
   "source": [
    " %% ================================= CORE OF THE CODE ===================================== #"
   ]
  },
  {
   "cell_type": "code",
   "execution_count": null,
   "id": "2c8aab44fb0332e",
   "metadata": {},
   "outputs": [],
   "source": [
    "\n",
    "ensemble = create_ensemble(forecast_params, filter_params)\n",
    "filter_ens = ensemble.copy()\n",
    "\n",
    "truth = create_truth(true_params, filter_params)\n",
    "\n",
    "\n",
    "# START BIAS MODEL -----------------------------------------------------------\n",
    "ESN_name = 'ESN_{}_L{}'.format(truth['name_bias'], bias_params['L'])\n",
    "create_bias_model(filter_ens, truth, bias_params, ESN_name,\n",
    "                  bias_model_folder=folder, plot_train_data=True)\n",
    "\n",
    "# Add washout if needed ------------------------------------------------------\n",
    "\n",
    "filter_ens = main(filter_ens, truth)\n",
    "\n"
   ]
  },
  {
   "cell_type": "markdown",
   "id": "5553ef755ec73883",
   "metadata": {},
   "source": [
    " %% ================================= PLOT RESULTS ===================================== #"
   ]
  },
  {
   "cell_type": "code",
   "execution_count": null,
   "outputs": [],
   "source": [
    "post_process_single(filter_ens, truth)"
   ],
   "metadata": {
    "collapsed": false
   },
   "id": "af6e0bbb4ec1acdb"
  },
  {
   "cell_type": "code",
   "execution_count": null,
   "id": "cbf15cadfce9f0da",
   "metadata": {},
   "outputs": [],
   "source": [
    "# Plot results -------\n",
    "if filter_ens.est_a:\n",
    "    reference_p = dict(omega=2 * np.pi,\n",
    "                       kappa=1e-4,\n",
    "                       epsilon=1e-3)\n",
    "\n",
    "    plot_parameters(filter_ens, truth, reference_p=reference_p)\n"
   ]
  },
  {
   "cell_type": "code",
   "execution_count": null,
   "id": "a2268540c2348fa4",
   "metadata": {},
   "outputs": [],
   "source": [
    "\n",
    "\n",
    "def plot_timeseries(filter_ens, truth, filename=None, reference_y=1., reference_t=1.):\n",
    "    t_obs, obs = truth['t_obs'], truth['y_obs']\n",
    "\n",
    "    y_filter, t = filter_ens.getObservableHist(), filter_ens.hist_t\n",
    "    b, t_b = filter_ens.bias.hist, filter_ens.bias.hist_t\n",
    "    y_mean = np.mean(y_filter, -1)\n",
    "\n",
    "    # cut signals to interval of interest -----\n",
    "    N_CR = int(filter_ens.t_CR // filter_ens.dt)  # Length of interval to compute correlation and RMS\n",
    "    i0, i1 = [np.argmin(abs(t - truth['t_obs'][idx])) for idx in [0, -1]]  # start/end of assimilation\n",
    "\n",
    "    y_unbiased = recover_unbiased_solution(t_b, b, t, y_mean, upsample=hasattr(filter_ens.bias, 'upsample'))\n",
    "    y_filter, y_mean, y_unbiased, t = (yy[i0 - N_CR:i1 + N_CR] for yy in [y_filter, y_mean, y_unbiased, t])\n",
    "    \n",
    "    # y_truth = interpolate(truth['t'], truth['y_tue'], t)\n",
    "    y_truth = interpolate(truth['t'], truth['y_true'], t)\n",
    "\n",
    "    if reference_t == 1.:\n",
    "        t_label = '$t$ [s]'\n",
    "        if 'wash_t' in truth.keys():\n",
    "            t_wash, wash = truth['wash_t'], truth['wash_obs']\n",
    "    else:\n",
    "        t_label = '$t/T$'\n",
    "        t, t_b, t_obs = [tt / reference_t for tt in [t, t_b, t_obs]]\n",
    "        if 'wash_t' in truth.keys():\n",
    "            t_wash, wash = truth['wash_t'] / reference_t, truth['wash_obs']\n",
    "\n",
    "    # %% PLOT time series ------------------------------------------------------------------------------------------\n",
    "    Nq = filter_ens.Nq\n",
    "    fig1 = plt.figure(figsize=(9, 5.5), layout=\"constrained\")\n",
    "    subfigs = fig1.subfigures(1, 2, width_ratios=[1.1, 1])\n",
    "\n",
    "    ax_zoom = subfigs[0].subplots(Nq, 2, sharex='col', sharey='row')\n",
    "    ax_all = subfigs[1].subplots(Nq, 1, sharex='col')\n",
    "\n",
    "    y_truth, y_unbiased, y_filter, y_mean, obs = [yy / reference_y for yy in\n",
    "                                                  [y_truth, y_unbiased, y_filter, y_mean, obs]]\n",
    "\n",
    "    margin = 0.5\n",
    "    y_lims = [np.min(y_truth[:N_CR]) - margin, np.max(y_truth[:N_CR]) + margin]\n",
    "    x_lims = [[t_obs[0] - .25 * filter_ens.t_CR, t_obs[0] + .25 * filter_ens.t_CR],\n",
    "              [t_obs[-1] - .25 * filter_ens.t_CR, t_obs[-1] + .25 * filter_ens.t_CR],\n",
    "              [t[0], t[-1]]]\n",
    "\n",
    "    for qi in range(Nq):\n",
    "\n",
    "        for ax, xl in zip([ax_zoom[qi, 0], ax_zoom[qi, 1], ax_all[qi]], x_lims):\n",
    "\n",
    "            # Observables ---------------------------------------------------------------------\n",
    "            ax.plot(t, y_truth[:, qi], label='t', **true_noisy_props)\n",
    "            ax.plot(t, y_unbiased[:, qi], label='u', **y_unbias_props)\n",
    "            for mi in range(y_filter.shape[-1]):\n",
    "                ax.plot(t, y_filter[:, qi, mi], **y_biased_props)\n",
    "            ax.plot(t, y_mean[:, qi], **y_biased_mean_props)\n",
    "            ax.plot(t_obs, obs[:, qi], label='o', **obs_props)\n",
    "            if 'wash_t' in truth.keys():\n",
    "                ax.plot(t_wash, wash[:, qi], **obs_props)\n",
    "            plot_DA_window(t_obs, ax)\n",
    "            ax.set(ylim=y_lims, xlim=xl)\n",
    "\n",
    "        ylbl = '$y_{}$'.format(qi)\n",
    "        if reference_y != 1.:\n",
    "            ylbl += ' norm.'\n",
    "        ax_zoom[qi, 0].set(ylabel=ylbl)\n",
    "\n",
    "    ax_all[0].legend(loc='upper left', bbox_to_anchor=(0., 1.1), ncol=5, fontsize='xx-small')\n",
    "    for ax in [ax_zoom[-1, 0], ax_zoom[-1, 1], ax_all[-1]]:\n",
    "        ax.set(xlabel=t_label)\n",
    "\n",
    "    if filename is not None:\n",
    "        plt.savefig(filename + '.svg', dpi=350)\n",
    "        plt.close()\n",
    "        \n",
    "plot_timeseries(filter_ens, truth, reference_y=1000.)"
   ]
  },
  {
   "cell_type": "code",
   "execution_count": null,
   "outputs": [],
   "source": [
    "# Plot data\n",
    "# plot_truth(truth, plot_time=True, Nq=4)\n",
    "# plot_annular_model(forecast_params)"
   ],
   "metadata": {
    "collapsed": false
   },
   "id": "1033014c3cce901b"
  },
  {
   "cell_type": "code",
   "execution_count": null,
   "outputs": [],
   "source": [],
   "metadata": {
    "collapsed": false
   },
   "id": "e2097e99d46083b6"
  }
 ],
 "metadata": {
  "kernelspec": {
   "display_name": "Python 3 (ipykernel)",
   "language": "python",
   "name": "python3"
  },
  "language_info": {
   "codemirror_mode": {
    "name": "ipython",
    "version": 3
   },
   "file_extension": ".py",
   "mimetype": "text/x-python",
   "name": "python",
   "nbconvert_exporter": "python",
   "pygments_lexer": "ipython3",
   "version": "3.10.11"
  }
 },
 "nbformat": 4,
 "nbformat_minor": 5
}
