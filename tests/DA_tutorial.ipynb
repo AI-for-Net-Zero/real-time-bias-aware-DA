{
 "cells": [
  {
   "cell_type": "code",
   "execution_count": 34,
   "id": "a46dfc950860a239",
   "metadata": {
    "ExecuteTime": {
     "end_time": "2023-10-20T09:42:42.923962300Z",
     "start_time": "2023-10-20T09:42:42.918975900Z"
    }
   },
   "outputs": [],
   "source": [
    "import numpy as np\n",
    "import matplotlib.pyplot as plt\n",
    "import scipy.stats as stats\n",
    "from ipywidgets import interact\n",
    "import ipywidgets as widgets\n",
    "from IPython.display import display\n",
    "\n",
    "def coin_flip_inference(num_flips, prior_type, prior_params_alpha, prior_params_beta, likelihood_type):\n",
    "    # Step 1: Define Prior Beliefs (User-Defined Prior Distribution)\n",
    "    if prior_type == \"Beta\":\n",
    "        prior_params = (prior_params_alpha, prior_params_beta)\n",
    "        prior_distribution = stats.beta(*prior_params)\n",
    "        prior_description = f'Prior Alpha: {prior_params_alpha}, Prior Beta: {prior_params_beta}'\n",
    "        user_text = \"Enter Alpha and Beta for the prior:\"\n",
    "    elif prior_type == \"Gaussian\":\n",
    "        prior_params = (prior_params_alpha, prior_params_beta)\n",
    "        prior_distribution = stats.norm(*prior_params)\n",
    "        prior_description = f'Prior Mean: {prior_params_alpha}, Prior Std Dev: {prior_params_beta}'\n",
    "        user_text = \"Enter Mean and Std Dev for the prior:\"\n",
    "    # Add more elif blocks for other distribution types\n",
    "\n",
    "    # Step 2: Collect Data\n",
    "    # Simulate coin flips (0 for tails, 1 for heads)\n",
    "    data = np.random.choice([0, 1], num_flips)\n",
    "\n",
    "    # Step 3: Likelihood Function\n",
    "    def binomial_likelihood(theta):\n",
    "        num_heads = np.sum(data)\n",
    "        return stats.binom.pmf(num_heads, num_flips, theta)\n",
    "\n",
    "    def normal_likelihood(theta):\n",
    "        return stats.norm.pdf(data, loc=theta, scale=0.5).prod()\n",
    "\n",
    "    # Select the likelihood function based on user choice\n",
    "    if likelihood_type == \"Binomial\":\n",
    "        likelihood_function = binomial_likelihood\n",
    "    elif likelihood_type == \"Normal\":\n",
    "        likelihood_function = normal_likelihood\n",
    "    # Add more elif blocks for other likelihood types\n",
    "\n",
    "    # Step 4: Bayes' Theorem\n",
    "    # Calculate the posterior distribution\n",
    "    theta_values = np.linspace(0, 1, 1000)  # Possible values for the parameter θ\n",
    "    posterior_values = [prior_distribution.pdf(theta) * likelihood_function(theta) for theta in theta_values]\n",
    "\n",
    "    # Normalize the posterior (divide by the integral)\n",
    "    posterior_values /= np.trapz(posterior_values, theta_values)\n",
    "\n",
    "    # Step 5: Analyze the Posterior\n",
    "    # Calculate summary statistics\n",
    "    mean_posterior = np.trapz(theta_values * posterior_values, theta_values)\n",
    "    median_posterior = np.interp(0.5, np.cumsum(posterior_values), theta_values)\n",
    "    cred_interval = stats.beta.interval(0.95, *prior_params) if prior_type == \"Beta\" else stats.norm.interval(0.95, *prior_params)\n",
    "    # Add more elif blocks for other distribution types\n",
    "\n",
    "    # Step 6: Make Inferences\n",
    "    print(f\"Estimated Probability of Heads (Posterior Mean): {mean_posterior:.3f}\")\n",
    "    print(f\"Median of the Posterior: {median_posterior:.3f}\")\n",
    "    print(f\"95% Credible Interval: ({cred_interval[0]:.3f}, {cred_interval[1]:.3f})\")\n",
    "\n",
    "    # Plot the prior and posterior distributions\n",
    "    plt.figure(figsize=(10, 5))\n",
    "    plt.plot(theta_values, prior_distribution.pdf(theta_values), label='Prior', color='blue')\n",
    "    plt.plot(theta_values, posterior_values, label='Posterior', color='green')\n",
    "    plt.xlabel('Parameter (θ)')\n",
    "    plt.ylabel('Probability Density')\n",
    "    plt.legend()\n",
    "    plt.title(f'Bayesian Inference (Number of Flips: {num_flips}, Prior Type: {prior_type}, Likelihood Type: {likelihood_type})\\n{prior_description}')\n",
    "    plt.show()\n"
   ]
  },
  {
   "cell_type": "code",
   "execution_count": 35,
   "id": "261b8cb6",
   "metadata": {},
   "outputs": [
    {
     "data": {
      "application/vnd.jupyter.widget-view+json": {
       "model_id": "f041b0af77b349729d075f4ee454399b",
       "version_major": 2,
       "version_minor": 0
      },
      "text/plain": [
       "interactive(children=(IntSlider(value=1, description='Number of Flips', max=1001, min=1, step=10), Dropdown(de…"
      ]
     },
     "metadata": {},
     "output_type": "display_data"
    },
    {
     "data": {
      "text/plain": [
       "<function __main__.coin_flip_inference(num_flips, prior_type, prior_params_alpha, prior_params_beta, likelihood_type)>"
      ]
     },
     "metadata": {},
     "output_type": "display_data"
    }
   ],
   "source": [
    "# Create interactive widgets for changing the number of coin tosses, prior type, prior parameters, and likelihood type\n",
    "num_flips_widget = widgets.IntSlider(value=1, min=1, max=1001, step=10, description='Number of Flips')\n",
    "prior_type_widget = widgets.Dropdown(options=[\"Beta\", \"Gaussian\"], value=\"Beta\", description='Prior Type')\n",
    "prior_params_alpha_widget = widgets.FloatText(value=2.0, description=f'Prior Alpha')\n",
    "prior_params_beta_widget = widgets.FloatText(value=2.0, description=f'Prior Beta')\n",
    "likelihood_type_widget = widgets.Dropdown(options=[\"Binomial\", \"Normal\"], value=\"Binomial\", description='Likelihood Type')\n",
    "\n",
    "# Display the interactive plot with user-defined prior and likelihood\n",
    "interactive_plot = interact(\n",
    "    coin_flip_inference,\n",
    "    num_flips=num_flips_widget,\n",
    "    prior_type=prior_type_widget,\n",
    "    prior_params_alpha=prior_params_alpha_widget,\n",
    "    prior_params_beta=prior_params_beta_widget,\n",
    "    likelihood_type=likelihood_type_widget\n",
    ")\n",
    "display(interactive_plot)"
   ]
  },
  {
   "cell_type": "code",
   "execution_count": null,
   "id": "b7a74f15",
   "metadata": {},
   "outputs": [],
   "source": []
  }
 ],
 "metadata": {
  "kernelspec": {
   "display_name": "Python 3 (ipykernel)",
   "language": "python",
   "name": "python3"
  },
  "language_info": {
   "codemirror_mode": {
    "name": "ipython",
    "version": 3
   },
   "file_extension": ".py",
   "mimetype": "text/x-python",
   "name": "python",
   "nbconvert_exporter": "python",
   "pygments_lexer": "ipython3",
   "version": "3.8.16"
  }
 },
 "nbformat": 4,
 "nbformat_minor": 5
}
